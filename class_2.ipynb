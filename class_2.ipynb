{
 "cells": [
  {
   "cell_type": "markdown",
   "id": "7a3dfd66",
   "metadata": {},
   "source": [
    "create a function that takes two strings as paramters and returns true if they are anagrams of each other, false otherwi\n",
    "se \n",
    "'''\n",
    "examples\n",
    "1. heart and earth\n",
    "2. scar and cars\n",
    "3. star and rats\n",
    "etc\n",
    "'''\n",
    "\n",
    "###Criteria\n",
    " two strings are anagrams of eachother if and only if all the criteria below are met\n",
    " 1. they must use all the same characters\n",
    " 2. They must be exactly the same length (in characters)\n",
    "\n",
    " \n"
   ]
  },
  {
   "cell_type": "code",
   "execution_count": null,
   "id": "750ab450",
   "metadata": {},
   "outputs": [],
   "source": [
    "#Pseudocode ->\n",
    "\n",
    "def check_anagrams(w1,w2)\n",
    "    word = {}\n",
    "    word2 = {}\n",
    "    for letter in w1:\n",
    "        if word.get(letter):\n",
    "           word[letter] = 1\n",
    "        else:\n",
    "            word[letter] = 1\n",
    "\n",
    "    for letter in w2:\n",
    "        if word2.get(letter):\n",
    "            word2[letter]+=1\n",
    "        else:\n",
    "            word2[letter] = 1\n",
    "\n",
    "            print(word)\n",
    "            print(word2)\n",
    "\n",
    "            check_anagram(\"scar\", \"cars\")\n"
   ]
  }
 ],
 "metadata": {
  "kernelspec": {
   "display_name": "Python 3",
   "language": "python",
   "name": "python3"
  },
  "language_info": {
   "name": "python",
   "version": "3.13.5"
  }
 },
 "nbformat": 4,
 "nbformat_minor": 5
}
