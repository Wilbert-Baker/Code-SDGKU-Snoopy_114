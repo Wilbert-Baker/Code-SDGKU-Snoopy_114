{
 "cells": [
  {
   "cell_type": "markdown",
   "id": "7a3dfd66",
   "metadata": {},
   "source": [
    "create a function that takes two strings as paramters and returns true if they are anagrams of each other, false otherwi\n",
    "se \n",
    "'''\n",
    "examples\n",
    "1. heart and earth\n",
    "2. scar and cars\n",
    "3. star and rats\n",
    "etc\n",
    "'''\n",
    "\n",
    "###Criteria\n",
    " two strings are anagrams of eachother if and only if all the criteria below are met\n",
    " 1. they must use all the same characters\n",
    " 2. They must be exactly the same length (in characters)\n",
    "\n",
    " \n"
   ]
  },
  {
   "cell_type": "code",
   "execution_count": null,
   "id": "9c6e456a",
   "metadata": {},
   "outputs": [
    {
     "ename": "",
     "evalue": "",
     "output_type": "error",
     "traceback": [
      "\u001b[1;31mRunning cells with 'Python 3.13.5' requires the ipykernel package.\n",
      "\u001b[1;31m<a href='command:jupyter.createPythonEnvAndSelectController'>Create a Python Environment</a> with the required packages.\n",
      "\u001b[1;31mOr install 'ipykernel' using the command: 'c:/Users/wilbe/AppData/Local/Programs/Python/Python313/python.exe -m pip install ipykernel -U --user --force-reinstall'"
     ]
    }
   ],
   "source": [
    "#Pseudocode ->\n",
    "\n",
    "def check_anagrams(w1,w2)\n",
    "    word = {}\n",
    "    word2 = {}\n",
    "    for letter in w1:\n",
    "        if word.get(letter):\n",
    "           word[letter] = 1\n",
    "        else:\n",
    "            word[letter] = 1\n",
    "\n",
    "    for letter in w2:\n",
    "        if word2.get(letter):\n",
    "            word2[letter]+=1\n",
    "        else:\n",
    "            word2[letter] = 1\n",
    "\n",
    "            print(word)\n",
    "            print(word2)\n",
    "\n",
    "            check_anagrams(\"scar\", \"cars\")\n"
   ]
  }
 ],
 "metadata": {
  "kernelspec": {
   "display_name": "Python 3",
   "language": "python",
   "name": "python3"
  },
  "language_info": {
   "name": "python",
   "version": "3.13.5"
  }
 },
 "nbformat": 4,
 "nbformat_minor": 5
}
