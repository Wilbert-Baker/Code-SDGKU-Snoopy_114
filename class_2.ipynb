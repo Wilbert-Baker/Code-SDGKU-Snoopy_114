{
 "cells": [
  {
   "cell_type": "markdown",
   "id": "7a3dfd66",
   "metadata": {},
   "source": [
    "create a function that takes two strings as paramters and returns true if they are anagrams of each other, false otherwi\n",
    "se \n",
    "'''\n",
    "examples\n",
    "1. heart and earth\n",
    "2. scar and cars\n",
    "3. star and rats\n",
    "etc\n",
    "'''\n",
    "\n",
    "###Criteria\n",
    " two strings are anagrams of eachother if and only if all the criteria below are met\n",
    " 1. they must use all the same characters\n",
    " 2. They must be exactly the same length (in characters)\n",
    "\n",
    " \n"
   ]
  },
  {
   "cell_type": "code",
   "execution_count": null,
   "id": "86d7ae18",
   "metadata": {
    "vscode": {
     "languageId": "plaintext"
    }
   },
   "outputs": [],
   "source": []
  }
 ],
 "metadata": {
  "language_info": {
   "name": "python"
  }
 },
 "nbformat": 4,
 "nbformat_minor": 5
}
