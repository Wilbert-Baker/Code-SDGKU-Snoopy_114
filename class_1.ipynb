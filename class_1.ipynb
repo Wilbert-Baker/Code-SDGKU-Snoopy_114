{
 "cells": [
  {
   "cell_type": "markdown",
   "id": "ad1f2229",
   "metadata": {},
   "source": [
    "1 snoopy_114-class1. Jupyter Introduction and Problem"
   ]
  },
  {
   "cell_type": "markdown",
   "id": "3afd6d0d",
   "metadata": {},
   "source": [
    " # Problem  1\n",
    "\n",
    "### find the total of numbers from collection that divided by 2 the moduleis 0\n",
    "\n",
    " '''\n",
    "Examples:\n",
    " 1. Given [3, 4. 10,15,999.2] then the output should be: total=3\n",
    " 2. Given [2,4,6,19,3,7] Then the output should be: total=4\n",
    "  '''\n",
    "\n",
    "Criteria\n",
    "\n",
    "    1.create a function that recieves a collection and return an integer with the total\n",
    "\n",
    "Hint\n",
    " \n",
    " -% is the mathemic operand to get the module from a division.\n",
    " -2% 2 = 0\n",
    "\n",
    " The collection is numbers = [3,5,27,20,6,3,5,60]\n"
   ]
  }
 ],
 "metadata": {
  "language_info": {
   "name": "python"
  }
 },
 "nbformat": 4,
 "nbformat_minor": 5
}
