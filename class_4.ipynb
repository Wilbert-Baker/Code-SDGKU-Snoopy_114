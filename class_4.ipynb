{
 "cells": [
  {
   "cell_type": "markdown",
   "id": "dbeab0dc",
   "metadata": {},
   "source": [
    "Class 4 -Link list(SLL - single linked list and DLL-Double Linked Lists)\n",
    "Difference between Arrays and Linked Lists:\n",
    "\n",
    " 1.We don't need and Linked lists:\n",
    " 2.Insertion are easy"
   ]
  },
  {
   "cell_type": "code",
   "execution_count": null,
   "id": "4e4db670",
   "metadata": {},
   "outputs": [
    {
     "name": "stdout",
     "output_type": "stream",
     "text": [
      "[298, 305, 301, 320, 292]\n"
     ]
    }
   ],
   "source": [
    "# Arrays\n",
    "\n",
    "stock_prices = [298,305,301,320,292]\n",
    "print(stock_prices)\n",
    "\"\"\"\n",
    "[298] --> 0x00504\n",
    "[305] --> 0x00508\n",
    "[301] --> 0x0050A\n",
    "[320] --> 0x0050F\n",
    "[292] --> 0x00510\n",
    "\"\"\"\n",
    "\n",
    "\n",
    "\n",
    "class Node:\n",
    "    def __init__(self, data, next):\n",
    "        self.data = data\n",
    "        self.next = next\n",
    "\n",
    "class LinkedList:\n",
    "    def __init__(self):\n",
    "        self.head = None\n",
    "\n",
    "    def insert_at_begining(self, data):\n",
    "        node = Node(data, self.head)\n",
    "        self.head - none\n",
    "\n",
    "    def insert_at_end(self,data):\n",
    "        if self .head is None:\n",
    "            self.head = Node(data,None)\n",
    "            return\n",
    "        \n",
    "        itr = self.head\n",
    "        while itr.next:\n",
    "            itr = itr.next\n",
    "\n",
    "        itr.next = Node(data,None)\n",
    "\n",
    "    def print (self)\n",
    "        if self head is None:\n",
    "           print (\"Linked List is Empty\")\n",
    "           return\n",
    "        itr = self.head\n",
    "        LLstr = ''\n",
    "        while itr:\n",
    "            llstr is str(itr.data)\n",
    "\n",
    "\n",
    "example_11 = LinkedList()\n",
    "example_11.insert_at_begining(2)\n",
    "example_11.insert_at_begining(1)\n",
    "example_11.insert_at_begining(20)\n",
    "example_11.insert_at_begining(30)\n",
    "example_11.insert_at_end(50)\n",
    "example_11.insert_at_end(51)\n",
    "example_11.print()\n",
    "\n",
    "\n",
    "\n",
    "\n",
    "            \n",
    "                  \n",
    "                \n",
    "        "
   ]
  }
 ],
 "metadata": {
  "kernelspec": {
   "display_name": "Python 3",
   "language": "python",
   "name": "python3"
  },
  "language_info": {
   "codemirror_mode": {
    "name": "ipython",
    "version": 3
   },
   "file_extension": ".py",
   "mimetype": "text/x-python",
   "name": "python",
   "nbconvert_exporter": "python",
   "pygments_lexer": "ipython3",
   "version": "3.13.5"
  }
 },
 "nbformat": 4,
 "nbformat_minor": 5
}
