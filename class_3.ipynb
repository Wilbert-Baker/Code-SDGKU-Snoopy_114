{
 "cells": [
  {
   "cell_type": "markdown",
   "id": "5f0b75df",
   "metadata": {},
   "source": [
    "# Class 3 - stacks and Queues\n",
    "\n",
    "## Stack\n",
    "A stack is an ordered collection of elements where items are added and removed from one end, commly referred to as LIFO( Last In, First Out)\n",
    "\n",
    "\n",
    "\n",
    "## Queue\n",
    " A quwue is on ordered collection of elements where items are added and removed from \"\"oppsite\"\" ends, commonly referred to as the \"front\" and \"back\" or \"rear\" of the Queue. The ordering principal is referred to as \"FIFO (First In, First out) or \"First come First served\"."
   ]
  },
  {
   "cell_type": "markdown",
   "id": "273c33a4",
   "metadata": {},
   "source": []
  },
  {
   "cell_type": "code",
   "execution_count": 10,
   "id": "f6664c4d",
   "metadata": {},
   "outputs": [],
   "source": [
    "# simpl(find version of a stack (relying on built-in function)\n",
    "\n",
    "class Stack:\n",
    "    def __init__(self):\n",
    "       self.items = []\n",
    "    \n",
    "    def push (self, elements):\n",
    "        self.items.append(elements)\n",
    "\n",
    "    def pop(self):\n",
    "        return self.items.pop()\n",
    "\n",
    "    def peek(self):\n",
    "        return self.items[len(self) - 1]\n",
    "    \n",
    "    def size(self):\n",
    "        return len(self.items)\n",
    "    \n",
    "    def is_empty(self):\n",
    "        return self.items == []\n",
    "\n"
   ]
  },
  {
   "cell_type": "code",
   "execution_count": 11,
   "id": "962a7448",
   "metadata": {},
   "outputs": [],
   "source": [
    "stack = Stack()\n",
    "stack.push(10)\n",
    "stack.push(20)\n",
    "stack.push(23)\n",
    "stack.push(19)\n",
    "stack.push(40)"
   ]
  },
  {
   "cell_type": "markdown",
   "id": "4a21674d",
   "metadata": {},
   "source": [
    "Problem3\n",
    "### use the stack class above to invert a string\n",
    "\n",
    "Example:\n",
    "given \"Luis\" your function should return siul\"\n",
    "given stara your function should return  \"srats\"\n",
    "given \"cool\" your function should return  \"looc\"\n",
    "\n",
    "Criteria:your function must recieve a string as a perameter and return a string (not a list)\n",
    "\n",
    "your function must use class above\n",
    "\n",
    "You cannot google anything for the challenge\n"
   ]
  },
  {
   "cell_type": "code",
   "execution_count": 12,
   "id": "24c481e5",
   "metadata": {},
   "outputs": [
    {
     "data": {
      "text/plain": [
       "'serutcurtS ataD'"
      ]
     },
     "execution_count": 12,
     "metadata": {},
     "output_type": "execute_result"
    }
   ],
   "source": [
    "def invert_word(word):\n",
    "    stack = Stack()\n",
    "    out = \"\"\n",
    "    for letter in word:\n",
    "        stack.push(letter)\n",
    "\n",
    "    while not stack.is_empty():\n",
    "           out += stack.pop()\n",
    "\n",
    "    return out\n",
    "invert_word(\"Data Structures\")     "
   ]
  },
  {
   "cell_type": "code",
   "execution_count": null,
   "id": "ea19d6c1",
   "metadata": {},
   "outputs": [],
   "source": [
    "# custom stack class\n",
    "\n",
    "class Node:\n",
    "    def__init__(self,data,below):\n",
    "        self.data = publish_display_data\n",
    "        self below = below\n",
    "    \n",
    "\n",
    "class Cstack:\n",
    "    def __init__(self):\n",
    "        self.top is None:\n",
    "    def push(self, data):\n",
    "        if self.top is None:\n",
    "         node = Node(data,self.top)\n",
    "             )    "
   ]
  }
 ],
 "metadata": {
  "kernelspec": {
   "display_name": "Python 3",
   "language": "python",
   "name": "python3"
  },
  "language_info": {
   "codemirror_mode": {
    "name": "ipython",
    "version": 3
   },
   "file_extension": ".py",
   "mimetype": "text/x-python",
   "name": "python",
   "nbconvert_exporter": "python",
   "pygments_lexer": "ipython3",
   "version": "3.13.5"
  }
 },
 "nbformat": 4,
 "nbformat_minor": 5
}
