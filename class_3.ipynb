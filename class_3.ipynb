{
 "cells": [
  {
   "cell_type": "markdown",
   "id": "5f0b75df",
   "metadata": {},
   "source": [
    "# Class 3 - stacks and Queues\n",
    "\n",
    "## Stack\n",
    "A stack is an ordered collection of elements where items are added and removed from one end, commly referred to as LIFO( Last In, First Out)\n",
    "\n",
    "\n",
    "\n",
    "## Queue\n",
    " A quwue is on ordered collection of elements where items are added and removed from \"\"oppsite\"\" ends, commonly referred to as the \"front\" and \"back\" or \"rear\" of the Queue. The ordering principal is referred to as \"FIFO (First In, First out) or \"First come First served\"."
   ]
  },
  {
   "cell_type": "markdown",
   "id": "273c33a4",
   "metadata": {},
   "source": []
  },
  {
   "cell_type": "code",
   "execution_count": 14,
   "id": "f6664c4d",
   "metadata": {},
   "outputs": [],
   "source": [
    "# simpl(find version of a stack (relying on built-in function)\n",
    "\n",
    "class Stack:\n",
    "    def __init__(self):\n",
    "       self.items = []\n",
    "    \n",
    "    def push (self, elements):\n",
    "        self.items.append(elements)\n",
    "\n",
    "    def pop(self):\n",
    "        return self.items.pop()\n",
    "\n",
    "    def peek(self):\n",
    "        return self.items[len(self) - 1]\n",
    "    \n",
    "    def size(self):\n",
    "        return len(self.items)\n",
    "    \n",
    "    def is_empty(self):\n",
    "        return self.items == []\n",
    "\n"
   ]
  },
  {
   "cell_type": "code",
   "execution_count": 4,
   "id": "962a7448",
   "metadata": {},
   "outputs": [
    {
     "ename": "NameError",
     "evalue": "name 'stack' is not defined",
     "output_type": "error",
     "traceback": [
      "\u001b[31m---------------------------------------------------------------------------\u001b[39m",
      "\u001b[31mNameError\u001b[39m                                 Traceback (most recent call last)",
      "\u001b[36mCell\u001b[39m\u001b[36m \u001b[39m\u001b[32mIn[4]\u001b[39m\u001b[32m, line 1\u001b[39m\n\u001b[32m----> \u001b[39m\u001b[32m1\u001b[39m stack = \u001b[43mstack\u001b[49m()\n\u001b[32m      2\u001b[39m stack.push(\u001b[32m10\u001b[39m)\n\u001b[32m      3\u001b[39m stack.push(\u001b[32m20\u001b[39m)\n",
      "\u001b[31mNameError\u001b[39m: name 'stack' is not defined"
     ]
    }
   ],
   "source": [
    "stack = stack()\n",
    "stack.push(10)\n",
    "stack.push(20)\n",
    "stack.push(23)\n",
    "stack.push(19)\n",
    "stack.push(40)"
   ]
  },
  {
   "cell_type": "markdown",
   "id": "4a21674d",
   "metadata": {},
   "source": [
    "Problem3\n",
    "### use the stack class above to invert a string\n",
    "\n",
    "Example:\n",
    "given \"Luis\" your function should return siul\"\n",
    "given stara your function should return  \"srats\"\n",
    "given \"cool\" your function should return  \"looc\"\n",
    "\n",
    "Criteria:your function must recieve a string as a perameter and return a string (not a list)\n",
    "\n",
    "your function must use class above\n",
    "\n",
    "You cannot google anything for the challenge\n"
   ]
  },
  {
   "cell_type": "code",
   "execution_count": 16,
   "id": "24c481e5",
   "metadata": {},
   "outputs": [
    {
     "data": {
      "text/plain": [
       "'serutcurtS ataD'"
      ]
     },
     "execution_count": 16,
     "metadata": {},
     "output_type": "execute_result"
    }
   ],
   "source": [
    "def invert_word(word):\n",
    "    stack = Stack()\n",
    "    out = \"\"\n",
    "    for letter in word:\n",
    "        stack.push(letter)\n",
    "\n",
    "    while not stack.is_empty():\n",
    "           out += stack.pop()\n",
    "\n",
    "    return out\n",
    "invert_word(\"Data Structures\")     "
   ]
  }
 ],
 "metadata": {
  "kernelspec": {
   "display_name": "Python 3",
   "language": "python",
   "name": "python3"
  },
  "language_info": {
   "codemirror_mode": {
    "name": "ipython",
    "version": 3
   },
   "file_extension": ".py",
   "mimetype": "text/x-python",
   "name": "python",
   "nbconvert_exporter": "python",
   "pygments_lexer": "ipython3",
   "version": "3.13.5"
  }
 },
 "nbformat": 4,
 "nbformat_minor": 5
}
